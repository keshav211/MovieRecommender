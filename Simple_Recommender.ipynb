{
  "nbformat": 4,
  "nbformat_minor": 0,
  "metadata": {
    "colab": {
      "name": "Simple Recommender.ipynb",
      "provenance": [],
      "collapsed_sections": []
    },
    "kernelspec": {
      "name": "python3",
      "display_name": "Python 3"
    },
    "language_info": {
      "name": "python"
    }
  },
  "cells": [
    {
      "cell_type": "markdown",
      "metadata": {
        "id": "3Hq02mWIEsqG"
      },
      "source": [
        "**Importing all the required librarires**"
      ]
    },
    {
      "cell_type": "code",
      "metadata": {
        "id": "blCBk_Xh5NBy"
      },
      "source": [
        "import pandas as pd\n",
        "from sklearn.metrics.pairwise import linear_kernel\n",
        "from sklearn.feature_extraction.text import TfidfVectorizer"
      ],
      "execution_count": 2,
      "outputs": []
    },
    {
      "cell_type": "markdown",
      "metadata": {
        "id": "2dc37v5ME2x9"
      },
      "source": [
        "**Reading the dataset**"
      ]
    },
    {
      "cell_type": "code",
      "metadata": {
        "colab": {
          "base_uri": "https://localhost:8080/"
        },
        "id": "yl6LIyRR75Bp",
        "outputId": "0685afcb-f6b8-4d69-a34d-f6582b59c573"
      },
      "source": [
        "url=\"https://raw.githubusercontent.com/keshav211/MovieRecommender/master/movies_metadata.csv\"\n",
        "metadata=pd.read_csv(url)"
      ],
      "execution_count": 3,
      "outputs": [
        {
          "output_type": "stream",
          "name": "stderr",
          "text": [
            "/usr/local/lib/python3.7/dist-packages/IPython/core/interactiveshell.py:2718: DtypeWarning: Columns (10) have mixed types.Specify dtype option on import or set low_memory=False.\n",
            "  interactivity=interactivity, compiler=compiler, result=result)\n"
          ]
        }
      ]
    },
    {
      "cell_type": "markdown",
      "metadata": {
        "id": "eux6LG1LE7ZO"
      },
      "source": [
        "**Checking the size and shape of the movies_dataset**"
      ]
    },
    {
      "cell_type": "code",
      "metadata": {
        "colab": {
          "base_uri": "https://localhost:8080/"
        },
        "id": "O7yCIp17DkDO",
        "outputId": "fea08bdb-ebfb-4221-c222-229b0449263b"
      },
      "source": [
        "print(metadata.shape)\n",
        "print(metadata.size)"
      ],
      "execution_count": 4,
      "outputs": [
        {
          "output_type": "stream",
          "name": "stdout",
          "text": [
            "(45466, 24)\n",
            "1091184\n"
          ]
        }
      ]
    },
    {
      "cell_type": "markdown",
      "metadata": {
        "id": "Oxa-FUerFEso"
      },
      "source": [
        "**Checking all the information of the movies_metadataset**"
      ]
    },
    {
      "cell_type": "code",
      "metadata": {
        "colab": {
          "base_uri": "https://localhost:8080/"
        },
        "id": "xS7ej2e0D2XJ",
        "outputId": "9dfcd07e-13b9-4139-aae3-eb1e92826ae4"
      },
      "source": [
        "metadata.info()"
      ],
      "execution_count": 5,
      "outputs": [
        {
          "output_type": "stream",
          "name": "stdout",
          "text": [
            "<class 'pandas.core.frame.DataFrame'>\n",
            "RangeIndex: 45466 entries, 0 to 45465\n",
            "Data columns (total 24 columns):\n",
            " #   Column                 Non-Null Count  Dtype  \n",
            "---  ------                 --------------  -----  \n",
            " 0   adult                  45466 non-null  object \n",
            " 1   belongs_to_collection  4494 non-null   object \n",
            " 2   budget                 45466 non-null  object \n",
            " 3   genres                 45466 non-null  object \n",
            " 4   homepage               7782 non-null   object \n",
            " 5   id                     45466 non-null  object \n",
            " 6   imdb_id                45449 non-null  object \n",
            " 7   original_language      45455 non-null  object \n",
            " 8   original_title         45466 non-null  object \n",
            " 9   overview               44512 non-null  object \n",
            " 10  popularity             45461 non-null  object \n",
            " 11  poster_path            45080 non-null  object \n",
            " 12  production_companies   45463 non-null  object \n",
            " 13  production_countries   45463 non-null  object \n",
            " 14  release_date           45379 non-null  object \n",
            " 15  revenue                45460 non-null  float64\n",
            " 16  runtime                45203 non-null  float64\n",
            " 17  spoken_languages       45460 non-null  object \n",
            " 18  status                 45379 non-null  object \n",
            " 19  tagline                20412 non-null  object \n",
            " 20  title                  45460 non-null  object \n",
            " 21  video                  45460 non-null  object \n",
            " 22  vote_average           45460 non-null  float64\n",
            " 23  vote_count             45460 non-null  float64\n",
            "dtypes: float64(4), object(20)\n",
            "memory usage: 8.3+ MB\n"
          ]
        }
      ]
    },
    {
      "cell_type": "markdown",
      "metadata": {
        "id": "3VYPxhF4FS9V"
      },
      "source": [
        "#  **Building a Simple Movie Recommender**\n",
        "One of the most basic metrics you can think of is the ranking to decide which top 250 movies are based on their respective ratings.\n",
        "\n",
        "However, using a rating as a metric has a few caveats:\n",
        "\n",
        "\n",
        "\n",
        "*   For one, it does not take into consideration the popularity of a movie. Therefore, a movie with a rating of 9 from 10 voters will be considered 'better' than a movie with a rating of 8.9 from 10,000 voters.\n",
        "\n",
        "> For example, imagine you want to order Chinese food, you have a couple of options, one restaurant has a 5-star rating by only 5 people while the other restaurant has 4.5 ratings by 1000 people. Which restaurant would you prefer? The second one, right?\n",
        "\n",
        "> Of course, there could be an exception that the first restaurant opened just a few days ago; hence, fewer people voted for it while, on the contrary, the second restaurant is operational for a year.\n",
        " \n",
        "*  On a related note, this metric will also tend to favor movies with a smaller number of voters with skewed and/or extremely high ratings. As the number of voters increases, the rating of a movie regularizes and approaches towards a value that is reflective of the movie's quality and gives the user a much better idea as to which movie he/she should choose. While it is difficult to discern the quality of a movie with extremely few voters, you might have to consider external sources to conclude. \n",
        "\n",
        "\n",
        "Taking these shortcomings into consideration, you must come up with a weighted rating that takes into account the average rating and the number of votes it has accumulated. Such a system will make sure that a movie with a 9 rating from 100,000 voters gets a (far) higher score than a movie with the same rating but a mere few hundred voters.\n",
        "\n",
        "Since we are trying to build a clone of IMDB's Top 250, let's use its weighted rating formula as a metric/score. Mathematically, it is represented as follows:\n",
        "\n",
        "\\begin{equation}\n",
        "\\text Weighted Rating (\\bf WR) = \\left({{\\bf v} \\over {\\bf v} + {\\bf m}} \\cdot R\\right) + \\left({{\\bf m} \\over {\\bf v} + {\\bf m}} \\cdot C\\right)\n",
        "\\end{equation}\n",
        "\n",
        "In the above equation,\n",
        "\n",
        "* **v** is the **number of votes** for the movie;\n",
        "* **m** is the **minimum votes** required to be listed in the chart;\n",
        "* **R** is the **average rating** of the movie;\n",
        "* **C** is the **mean vote** across the whole report."
      ]
    },
    {
      "cell_type": "code",
      "metadata": {
        "colab": {
          "base_uri": "https://localhost:8080/"
        },
        "id": "VNpFIe2R5j_3",
        "outputId": "db61eb30-0e60-446c-cea8-8ffd3a49167e"
      },
      "source": [
        "C = metadata['vote_average'].mean()\n",
        "m = metadata['vote_count'].quantile(0.90)\n",
        "q_movies = metadata.copy().loc[metadata['vote_count'] >= m]\n",
        "def weighted_rating(x, m=m, C=C):\n",
        "    v = x['vote_count']\n",
        "    R = x['vote_average']\n",
        "    return (v/(v+m) * R) + (m/(m+v) * C)\n",
        "q_movies['score'] = q_movies.apply(weighted_rating, axis=1)    \n",
        "q_movies = q_movies.sort_values('score', ascending=False)\n",
        "n=int(input(\"Please enter the number:\"))\n",
        "q_movies.reset_index(inplace=True)\n",
        "q_movies.index += 1 \n",
        "q_movies = q_movies.rename(columns = {'title': 'Movie Name','score':'Movie Score'}, inplace = False)\n"
      ],
      "execution_count": 6,
      "outputs": [
        {
          "name": "stdout",
          "output_type": "stream",
          "text": [
            "Please enter the number:3\n"
          ]
        }
      ]
    },
    {
      "cell_type": "markdown",
      "metadata": {
        "id": "vPUI_qsDb6ae"
      },
      "source": [
        "**The sorted table of the names of the Movie according to their respective  scores are\\:**"
      ]
    },
    {
      "cell_type": "code",
      "metadata": {
        "colab": {
          "base_uri": "https://localhost:8080/"
        },
        "id": "AMFBSDeibxFO",
        "outputId": "86d382d8-b5be-4044-aadd-0f8813f3e655"
      },
      "source": [
        "print((q_movies[['Movie Name','Movie Score']].head(n)))"
      ],
      "execution_count": 7,
      "outputs": [
        {
          "output_type": "stream",
          "name": "stdout",
          "text": [
            "                    Movie Name  Movie Score\n",
            "1     The Shawshank Redemption     8.445869\n",
            "2                The Godfather     8.425439\n",
            "3  Dilwale Dulhania Le Jayenge     8.421453\n"
          ]
        }
      ]
    },
    {
      "cell_type": "code",
      "metadata": {
        "id": "uRGMNOQ0chSf"
      },
      "source": [
        ""
      ],
      "execution_count": null,
      "outputs": []
    }
  ]
}